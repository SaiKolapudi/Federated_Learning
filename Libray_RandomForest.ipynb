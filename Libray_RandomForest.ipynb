{
 "cells": [
  {
   "cell_type": "code",
   "execution_count": 42,
   "id": "72db774c",
   "metadata": {},
   "outputs": [],
   "source": [
    "## Import Library\n",
    "import numpy as np\n",
    "import pandas as pd\n",
    "import seaborn as sns\n",
    "import matplotlib.pyplot as plt"
   ]
  },
  {
   "cell_type": "code",
   "execution_count": 43,
   "id": "f31c9b4b",
   "metadata": {},
   "outputs": [],
   "source": [
    "%matplotlib inline\n",
    "from mpl_toolkits.mplot3d import Axes3D"
   ]
  },
  {
   "cell_type": "code",
   "execution_count": 44,
   "id": "77c24dfb",
   "metadata": {},
   "outputs": [],
   "source": [
    "from sklearn.cluster import KMeans\n",
    "from sklearn.preprocessing import StandardScaler"
   ]
  },
  {
   "cell_type": "code",
   "execution_count": 45,
   "id": "9cfffb06",
   "metadata": {},
   "outputs": [],
   "source": [
    "## Load Data\n",
    "dfa1 = pd.read_csv(\"east.csv\")"
   ]
  },
  {
   "cell_type": "code",
   "execution_count": 46,
   "id": "9c3edb7e",
   "metadata": {},
   "outputs": [],
   "source": [
    "dfa2 = pd.read_csv(\"north.csv\")"
   ]
  },
  {
   "cell_type": "code",
   "execution_count": 47,
   "id": "555b7d66",
   "metadata": {},
   "outputs": [],
   "source": [
    "dfa3 = pd.read_csv(\"south.csv\")"
   ]
  },
  {
   "cell_type": "code",
   "execution_count": 48,
   "id": "a7f37666",
   "metadata": {},
   "outputs": [],
   "source": [
    "dfa = pd.concat([dfa1, dfa2, dfa3])"
   ]
  },
  {
   "cell_type": "code",
   "execution_count": 49,
   "id": "28d6fbba",
   "metadata": {},
   "outputs": [
    {
     "name": "stdout",
     "output_type": "stream",
     "text": [
      "<class 'pandas.core.frame.DataFrame'>\n",
      "Int64Index: 578676 entries, 0 to 193340\n",
      "Data columns (total 18 columns):\n",
      " #   Column      Non-Null Count   Dtype  \n",
      "---  ------      --------------   -----  \n",
      " 0   Unnamed: 0  578676 non-null  int64  \n",
      " 1   证件号         578676 non-null  object \n",
      " 2   姓名          578676 non-null  object \n",
      " 3   单位          547123 non-null  object \n",
      " 4   借书日期        578676 non-null  object \n",
      " 5   （应）还书日期     578676 non-null  object \n",
      " 6   财产号         578676 non-null  object \n",
      " 7   书刊条码号       578676 non-null  int64  \n",
      " 8   题名          578649 non-null  object \n",
      " 9   作者          577765 non-null  object \n",
      " 10  出版社         578279 non-null  object \n",
      " 11  价格          578676 non-null  float64\n",
      " 12  索书号         578676 non-null  object \n",
      " 13  馆藏地         578676 non-null  object \n",
      " 14  借书经手人       578676 non-null  object \n",
      " 15  借书地         578676 non-null  object \n",
      " 16  借阅规则        577786 non-null  float64\n",
      " 17  借阅方式        575471 non-null  object \n",
      "dtypes: float64(2), int64(2), object(14)\n",
      "memory usage: 83.9+ MB\n"
     ]
    }
   ],
   "source": [
    "dfa.info()"
   ]
  },
  {
   "cell_type": "code",
   "execution_count": 50,
   "id": "601c4953",
   "metadata": {},
   "outputs": [],
   "source": [
    "dfa.columns =['Unnamed: 0','license number', 'full name' , 'department' ,'borrow_date' ,'return_date','property number(of the book)',\n",
    "              'book barcode number', 'title','author','publisher','price','index number','collection place','agent(librarian)','library','borrow rules','borrow mode']"
   ]
  },
  {
   "cell_type": "code",
   "execution_count": 51,
   "id": "56ccc4bf",
   "metadata": {},
   "outputs": [
    {
     "data": {
      "text/html": [
       "<div>\n",
       "<style scoped>\n",
       "    .dataframe tbody tr th:only-of-type {\n",
       "        vertical-align: middle;\n",
       "    }\n",
       "\n",
       "    .dataframe tbody tr th {\n",
       "        vertical-align: top;\n",
       "    }\n",
       "\n",
       "    .dataframe thead th {\n",
       "        text-align: right;\n",
       "    }\n",
       "</style>\n",
       "<table border=\"1\" class=\"dataframe\">\n",
       "  <thead>\n",
       "    <tr style=\"text-align: right;\">\n",
       "      <th></th>\n",
       "      <th>Unnamed: 0</th>\n",
       "      <th>license number</th>\n",
       "      <th>full name</th>\n",
       "      <th>department</th>\n",
       "      <th>borrow_date</th>\n",
       "      <th>return_date</th>\n",
       "      <th>property number(of the book)</th>\n",
       "      <th>book barcode number</th>\n",
       "      <th>title</th>\n",
       "      <th>author</th>\n",
       "      <th>publisher</th>\n",
       "      <th>price</th>\n",
       "      <th>index number</th>\n",
       "      <th>collection place</th>\n",
       "      <th>agent(librarian)</th>\n",
       "      <th>library</th>\n",
       "      <th>borrow rules</th>\n",
       "      <th>borrow mode</th>\n",
       "    </tr>\n",
       "  </thead>\n",
       "  <tbody>\n",
       "    <tr>\n",
       "      <th>0</th>\n",
       "      <td>0</td>\n",
       "      <td>20122601020121</td>\n",
       "      <td>秦红燕</td>\n",
       "      <td>英护12.1</td>\n",
       "      <td>2013-01-0208:10:31</td>\n",
       "      <td>2013-01-1010:45:49</td>\n",
       "      <td>763079</td>\n",
       "      <td>20763079</td>\n",
       "      <td>挑战四级710分.综合测试</td>\n",
       "      <td>井升华总主编</td>\n",
       "      <td>外语教学与研究出版社</td>\n",
       "      <td>11.9</td>\n",
       "      <td>H310.42/96</td>\n",
       "      <td>原东馆书库社科</td>\n",
       "      <td>LT07</td>\n",
       "      <td>原东馆书库</td>\n",
       "      <td>1.0</td>\n",
       "      <td>普通</td>\n",
       "    </tr>\n",
       "    <tr>\n",
       "      <th>1</th>\n",
       "      <td>1</td>\n",
       "      <td>20122601020121</td>\n",
       "      <td>秦红燕</td>\n",
       "      <td>英护12.1</td>\n",
       "      <td>2013-01-0208:10:50</td>\n",
       "      <td>2013-01-1010:47:27</td>\n",
       "      <td>932365</td>\n",
       "      <td>20932365</td>\n",
       "      <td>挑战四级710分.阅读.修订版</td>\n",
       "      <td>总主编井升华</td>\n",
       "      <td>外语教学与研究出版社</td>\n",
       "      <td>17.9</td>\n",
       "      <td>H310.42/99=2</td>\n",
       "      <td>原东馆书库社科</td>\n",
       "      <td>LT07</td>\n",
       "      <td>原东馆书库</td>\n",
       "      <td>1.0</td>\n",
       "      <td>普通</td>\n",
       "    </tr>\n",
       "    <tr>\n",
       "      <th>2</th>\n",
       "      <td>2</td>\n",
       "      <td>200923010323</td>\n",
       "      <td>王文静</td>\n",
       "      <td>医学09.3</td>\n",
       "      <td>2013-01-0208:16:30</td>\n",
       "      <td>2013-03-0611:26:15</td>\n",
       "      <td>699573</td>\n",
       "      <td>20699573</td>\n",
       "      <td>内科学习题集</td>\n",
       "      <td>主编马中富, 李广然, 黄帆</td>\n",
       "      <td>军事医学科学出版社</td>\n",
       "      <td>58.0</td>\n",
       "      <td>R5-44/10</td>\n",
       "      <td>原东馆书库社科</td>\n",
       "      <td>LT29</td>\n",
       "      <td>原东馆书库</td>\n",
       "      <td>1.0</td>\n",
       "      <td>普通</td>\n",
       "    </tr>\n",
       "    <tr>\n",
       "      <th>3</th>\n",
       "      <td>3</td>\n",
       "      <td>200923010323</td>\n",
       "      <td>王文静</td>\n",
       "      <td>医学09.3</td>\n",
       "      <td>2013-01-0208:16:36</td>\n",
       "      <td>2013-03-0611:26:02</td>\n",
       "      <td>721994</td>\n",
       "      <td>20721994</td>\n",
       "      <td>内科学</td>\n",
       "      <td>齐季民, 蔡立华, 殷思纯主编</td>\n",
       "      <td>第二军医大学出版社</td>\n",
       "      <td>37.0</td>\n",
       "      <td>R5/75</td>\n",
       "      <td>原东馆书库社科</td>\n",
       "      <td>LT29</td>\n",
       "      <td>原东馆书库</td>\n",
       "      <td>1.0</td>\n",
       "      <td>普通</td>\n",
       "    </tr>\n",
       "    <tr>\n",
       "      <th>4</th>\n",
       "      <td>4</td>\n",
       "      <td>20110101</td>\n",
       "      <td>金豫杰</td>\n",
       "      <td>图书馆</td>\n",
       "      <td>2013-01-0208:19:56</td>\n",
       "      <td>2013-03-1707:42:37</td>\n",
       "      <td>857531</td>\n",
       "      <td>20857531</td>\n",
       "      <td>新四军往事:记忆中的新四军抗战历程</td>\n",
       "      <td>主编施昌旺</td>\n",
       "      <td>济南出版社</td>\n",
       "      <td>35.0</td>\n",
       "      <td>I251/286</td>\n",
       "      <td>原东馆书库社科</td>\n",
       "      <td>LT07</td>\n",
       "      <td>原东馆书库</td>\n",
       "      <td>2.0</td>\n",
       "      <td>普通</td>\n",
       "    </tr>\n",
       "  </tbody>\n",
       "</table>\n",
       "</div>"
      ],
      "text/plain": [
       "   Unnamed: 0  license number full name department         borrow_date  \\\n",
       "0           0  20122601020121       秦红燕     英护12.1  2013-01-0208:10:31   \n",
       "1           1  20122601020121       秦红燕     英护12.1  2013-01-0208:10:50   \n",
       "2           2    200923010323       王文静     医学09.3  2013-01-0208:16:30   \n",
       "3           3    200923010323       王文静     医学09.3  2013-01-0208:16:36   \n",
       "4           4        20110101       金豫杰        图书馆  2013-01-0208:19:56   \n",
       "\n",
       "          return_date property number(of the book)  book barcode number  \\\n",
       "0  2013-01-1010:45:49                       763079             20763079   \n",
       "1  2013-01-1010:47:27                       932365             20932365   \n",
       "2  2013-03-0611:26:15                       699573             20699573   \n",
       "3  2013-03-0611:26:02                       721994             20721994   \n",
       "4  2013-03-1707:42:37                       857531             20857531   \n",
       "\n",
       "               title           author   publisher  price  index number  \\\n",
       "0      挑战四级710分.综合测试           井升华总主编  外语教学与研究出版社   11.9    H310.42/96   \n",
       "1    挑战四级710分.阅读.修订版           总主编井升华  外语教学与研究出版社   17.9  H310.42/99=2   \n",
       "2             内科学习题集   主编马中富, 李广然, 黄帆   军事医学科学出版社   58.0      R5-44/10   \n",
       "3                内科学  齐季民, 蔡立华, 殷思纯主编   第二军医大学出版社   37.0         R5/75   \n",
       "4  新四军往事:记忆中的新四军抗战历程            主编施昌旺       济南出版社   35.0      I251/286   \n",
       "\n",
       "  collection place agent(librarian) library  borrow rules borrow mode  \n",
       "0          原东馆书库社科             LT07   原东馆书库           1.0          普通  \n",
       "1          原东馆书库社科             LT07   原东馆书库           1.0          普通  \n",
       "2          原东馆书库社科             LT29   原东馆书库           1.0          普通  \n",
       "3          原东馆书库社科             LT29   原东馆书库           1.0          普通  \n",
       "4          原东馆书库社科             LT07   原东馆书库           2.0          普通  "
      ]
     },
     "execution_count": 51,
     "metadata": {},
     "output_type": "execute_result"
    }
   ],
   "source": [
    "dfa.head(5)"
   ]
  },
  {
   "cell_type": "code",
   "execution_count": 52,
   "id": "9289e9fb",
   "metadata": {},
   "outputs": [
    {
     "name": "stdout",
     "output_type": "stream",
     "text": [
      "<class 'pandas.core.frame.DataFrame'>\n",
      "Int64Index: 578676 entries, 0 to 193340\n",
      "Data columns (total 18 columns):\n",
      " #   Column                        Non-Null Count   Dtype  \n",
      "---  ------                        --------------   -----  \n",
      " 0   Unnamed: 0                    578676 non-null  int64  \n",
      " 1   license number                578676 non-null  object \n",
      " 2   full name                     578676 non-null  object \n",
      " 3   department                    547123 non-null  object \n",
      " 4   borrow_date                   578676 non-null  object \n",
      " 5   return_date                   578676 non-null  object \n",
      " 6   property number(of the book)  578676 non-null  object \n",
      " 7   book barcode number           578676 non-null  int64  \n",
      " 8   title                         578649 non-null  object \n",
      " 9   author                        577765 non-null  object \n",
      " 10  publisher                     578279 non-null  object \n",
      " 11  price                         578676 non-null  float64\n",
      " 12  index number                  578676 non-null  object \n",
      " 13  collection place              578676 non-null  object \n",
      " 14  agent(librarian)              578676 non-null  object \n",
      " 15  library                       578676 non-null  object \n",
      " 16  borrow rules                  577786 non-null  float64\n",
      " 17  borrow mode                   575471 non-null  object \n",
      "dtypes: float64(2), int64(2), object(14)\n",
      "memory usage: 83.9+ MB\n"
     ]
    }
   ],
   "source": [
    "dfa.info()"
   ]
  },
  {
   "cell_type": "code",
   "execution_count": 53,
   "id": "dbef78d9",
   "metadata": {},
   "outputs": [],
   "source": [
    "# define lambda function to convert date string to datetime object\n",
    "import datetime\n",
    "def convert_date(date_str):\n",
    "    if len(date_str) <= 12:\n",
    "        date_str += '00:00:00'\n",
    "    return datetime.datetime.strptime(date_str, '%Y-%m-%d%H:%M:%S')"
   ]
  },
  {
   "cell_type": "code",
   "execution_count": 54,
   "id": "492331fc",
   "metadata": {},
   "outputs": [],
   "source": [
    "# apply the lambda function to the entire column using apply()\n",
    "dfa['borrow_date'] = dfa['borrow_date'].apply(convert_date)"
   ]
  },
  {
   "cell_type": "code",
   "execution_count": 55,
   "id": "8512694f",
   "metadata": {},
   "outputs": [],
   "source": [
    "# apply the lambda function to the entire column using apply()\n",
    "dfa['return_date'] = dfa['return_date'].apply(convert_date)"
   ]
  },
  {
   "cell_type": "code",
   "execution_count": 56,
   "id": "dc8baeb4",
   "metadata": {},
   "outputs": [],
   "source": [
    "def convert_to_float(s):\n",
    "    try:\n",
    "        return float(s)\n",
    "    except ValueError:\n",
    "        return 0.0"
   ]
  },
  {
   "cell_type": "code",
   "execution_count": 57,
   "id": "5e63a3f7",
   "metadata": {},
   "outputs": [],
   "source": [
    "dfa['price'] = dfa['price'].apply(convert_to_float)"
   ]
  },
  {
   "cell_type": "code",
   "execution_count": 58,
   "id": "7584a151",
   "metadata": {},
   "outputs": [
    {
     "name": "stdout",
     "output_type": "stream",
     "text": [
      "<class 'pandas.core.frame.DataFrame'>\n",
      "Int64Index: 578676 entries, 0 to 193340\n",
      "Data columns (total 18 columns):\n",
      " #   Column                        Non-Null Count   Dtype         \n",
      "---  ------                        --------------   -----         \n",
      " 0   Unnamed: 0                    578676 non-null  int64         \n",
      " 1   license number                578676 non-null  object        \n",
      " 2   full name                     578676 non-null  object        \n",
      " 3   department                    547123 non-null  object        \n",
      " 4   borrow_date                   578676 non-null  datetime64[ns]\n",
      " 5   return_date                   578676 non-null  datetime64[ns]\n",
      " 6   property number(of the book)  578676 non-null  object        \n",
      " 7   book barcode number           578676 non-null  int64         \n",
      " 8   title                         578649 non-null  object        \n",
      " 9   author                        577765 non-null  object        \n",
      " 10  publisher                     578279 non-null  object        \n",
      " 11  price                         578676 non-null  float64       \n",
      " 12  index number                  578676 non-null  object        \n",
      " 13  collection place              578676 non-null  object        \n",
      " 14  agent(librarian)              578676 non-null  object        \n",
      " 15  library                       578676 non-null  object        \n",
      " 16  borrow rules                  577786 non-null  float64       \n",
      " 17  borrow mode                   575471 non-null  object        \n",
      "dtypes: datetime64[ns](2), float64(2), int64(2), object(12)\n",
      "memory usage: 83.9+ MB\n"
     ]
    }
   ],
   "source": [
    "dfa.info()"
   ]
  },
  {
   "cell_type": "code",
   "execution_count": 59,
   "id": "ccaf4a58",
   "metadata": {},
   "outputs": [],
   "source": [
    "# calculate difference in hours\n",
    "dfa['duration'] = dfa['return_date'] - dfa['borrow_date']"
   ]
  },
  {
   "cell_type": "code",
   "execution_count": 60,
   "id": "04e4c2e6",
   "metadata": {},
   "outputs": [],
   "source": [
    "dfa['duration'] = dfa['duration'].astype('timedelta64[h]')"
   ]
  },
  {
   "cell_type": "code",
   "execution_count": 61,
   "id": "ba05311f",
   "metadata": {},
   "outputs": [
    {
     "data": {
      "text/html": [
       "<div>\n",
       "<style scoped>\n",
       "    .dataframe tbody tr th:only-of-type {\n",
       "        vertical-align: middle;\n",
       "    }\n",
       "\n",
       "    .dataframe tbody tr th {\n",
       "        vertical-align: top;\n",
       "    }\n",
       "\n",
       "    .dataframe thead th {\n",
       "        text-align: right;\n",
       "    }\n",
       "</style>\n",
       "<table border=\"1\" class=\"dataframe\">\n",
       "  <thead>\n",
       "    <tr style=\"text-align: right;\">\n",
       "      <th></th>\n",
       "      <th>Unnamed: 0</th>\n",
       "      <th>license number</th>\n",
       "      <th>full name</th>\n",
       "      <th>department</th>\n",
       "      <th>borrow_date</th>\n",
       "      <th>return_date</th>\n",
       "      <th>property number(of the book)</th>\n",
       "      <th>book barcode number</th>\n",
       "      <th>title</th>\n",
       "      <th>author</th>\n",
       "      <th>publisher</th>\n",
       "      <th>price</th>\n",
       "      <th>index number</th>\n",
       "      <th>collection place</th>\n",
       "      <th>agent(librarian)</th>\n",
       "      <th>library</th>\n",
       "      <th>borrow rules</th>\n",
       "      <th>borrow mode</th>\n",
       "      <th>duration</th>\n",
       "    </tr>\n",
       "  </thead>\n",
       "  <tbody>\n",
       "    <tr>\n",
       "      <th>0</th>\n",
       "      <td>0</td>\n",
       "      <td>20122601020121</td>\n",
       "      <td>秦红燕</td>\n",
       "      <td>英护12.1</td>\n",
       "      <td>2013-01-02 08:10:31</td>\n",
       "      <td>2013-01-10 10:45:49</td>\n",
       "      <td>763079</td>\n",
       "      <td>20763079</td>\n",
       "      <td>挑战四级710分.综合测试</td>\n",
       "      <td>井升华总主编</td>\n",
       "      <td>外语教学与研究出版社</td>\n",
       "      <td>11.9</td>\n",
       "      <td>H310.42/96</td>\n",
       "      <td>原东馆书库社科</td>\n",
       "      <td>LT07</td>\n",
       "      <td>原东馆书库</td>\n",
       "      <td>1.0</td>\n",
       "      <td>普通</td>\n",
       "      <td>194.0</td>\n",
       "    </tr>\n",
       "    <tr>\n",
       "      <th>1</th>\n",
       "      <td>1</td>\n",
       "      <td>20122601020121</td>\n",
       "      <td>秦红燕</td>\n",
       "      <td>英护12.1</td>\n",
       "      <td>2013-01-02 08:10:50</td>\n",
       "      <td>2013-01-10 10:47:27</td>\n",
       "      <td>932365</td>\n",
       "      <td>20932365</td>\n",
       "      <td>挑战四级710分.阅读.修订版</td>\n",
       "      <td>总主编井升华</td>\n",
       "      <td>外语教学与研究出版社</td>\n",
       "      <td>17.9</td>\n",
       "      <td>H310.42/99=2</td>\n",
       "      <td>原东馆书库社科</td>\n",
       "      <td>LT07</td>\n",
       "      <td>原东馆书库</td>\n",
       "      <td>1.0</td>\n",
       "      <td>普通</td>\n",
       "      <td>194.0</td>\n",
       "    </tr>\n",
       "    <tr>\n",
       "      <th>2</th>\n",
       "      <td>2</td>\n",
       "      <td>200923010323</td>\n",
       "      <td>王文静</td>\n",
       "      <td>医学09.3</td>\n",
       "      <td>2013-01-02 08:16:30</td>\n",
       "      <td>2013-03-06 11:26:15</td>\n",
       "      <td>699573</td>\n",
       "      <td>20699573</td>\n",
       "      <td>内科学习题集</td>\n",
       "      <td>主编马中富, 李广然, 黄帆</td>\n",
       "      <td>军事医学科学出版社</td>\n",
       "      <td>58.0</td>\n",
       "      <td>R5-44/10</td>\n",
       "      <td>原东馆书库社科</td>\n",
       "      <td>LT29</td>\n",
       "      <td>原东馆书库</td>\n",
       "      <td>1.0</td>\n",
       "      <td>普通</td>\n",
       "      <td>1515.0</td>\n",
       "    </tr>\n",
       "    <tr>\n",
       "      <th>3</th>\n",
       "      <td>3</td>\n",
       "      <td>200923010323</td>\n",
       "      <td>王文静</td>\n",
       "      <td>医学09.3</td>\n",
       "      <td>2013-01-02 08:16:36</td>\n",
       "      <td>2013-03-06 11:26:02</td>\n",
       "      <td>721994</td>\n",
       "      <td>20721994</td>\n",
       "      <td>内科学</td>\n",
       "      <td>齐季民, 蔡立华, 殷思纯主编</td>\n",
       "      <td>第二军医大学出版社</td>\n",
       "      <td>37.0</td>\n",
       "      <td>R5/75</td>\n",
       "      <td>原东馆书库社科</td>\n",
       "      <td>LT29</td>\n",
       "      <td>原东馆书库</td>\n",
       "      <td>1.0</td>\n",
       "      <td>普通</td>\n",
       "      <td>1515.0</td>\n",
       "    </tr>\n",
       "    <tr>\n",
       "      <th>4</th>\n",
       "      <td>4</td>\n",
       "      <td>20110101</td>\n",
       "      <td>金豫杰</td>\n",
       "      <td>图书馆</td>\n",
       "      <td>2013-01-02 08:19:56</td>\n",
       "      <td>2013-03-17 07:42:37</td>\n",
       "      <td>857531</td>\n",
       "      <td>20857531</td>\n",
       "      <td>新四军往事:记忆中的新四军抗战历程</td>\n",
       "      <td>主编施昌旺</td>\n",
       "      <td>济南出版社</td>\n",
       "      <td>35.0</td>\n",
       "      <td>I251/286</td>\n",
       "      <td>原东馆书库社科</td>\n",
       "      <td>LT07</td>\n",
       "      <td>原东馆书库</td>\n",
       "      <td>2.0</td>\n",
       "      <td>普通</td>\n",
       "      <td>1775.0</td>\n",
       "    </tr>\n",
       "  </tbody>\n",
       "</table>\n",
       "</div>"
      ],
      "text/plain": [
       "   Unnamed: 0  license number full name department         borrow_date  \\\n",
       "0           0  20122601020121       秦红燕     英护12.1 2013-01-02 08:10:31   \n",
       "1           1  20122601020121       秦红燕     英护12.1 2013-01-02 08:10:50   \n",
       "2           2    200923010323       王文静     医学09.3 2013-01-02 08:16:30   \n",
       "3           3    200923010323       王文静     医学09.3 2013-01-02 08:16:36   \n",
       "4           4        20110101       金豫杰        图书馆 2013-01-02 08:19:56   \n",
       "\n",
       "          return_date property number(of the book)  book barcode number  \\\n",
       "0 2013-01-10 10:45:49                       763079             20763079   \n",
       "1 2013-01-10 10:47:27                       932365             20932365   \n",
       "2 2013-03-06 11:26:15                       699573             20699573   \n",
       "3 2013-03-06 11:26:02                       721994             20721994   \n",
       "4 2013-03-17 07:42:37                       857531             20857531   \n",
       "\n",
       "               title           author   publisher  price  index number  \\\n",
       "0      挑战四级710分.综合测试           井升华总主编  外语教学与研究出版社   11.9    H310.42/96   \n",
       "1    挑战四级710分.阅读.修订版           总主编井升华  外语教学与研究出版社   17.9  H310.42/99=2   \n",
       "2             内科学习题集   主编马中富, 李广然, 黄帆   军事医学科学出版社   58.0      R5-44/10   \n",
       "3                内科学  齐季民, 蔡立华, 殷思纯主编   第二军医大学出版社   37.0         R5/75   \n",
       "4  新四军往事:记忆中的新四军抗战历程            主编施昌旺       济南出版社   35.0      I251/286   \n",
       "\n",
       "  collection place agent(librarian) library  borrow rules borrow mode  \\\n",
       "0          原东馆书库社科             LT07   原东馆书库           1.0          普通   \n",
       "1          原东馆书库社科             LT07   原东馆书库           1.0          普通   \n",
       "2          原东馆书库社科             LT29   原东馆书库           1.0          普通   \n",
       "3          原东馆书库社科             LT29   原东馆书库           1.0          普通   \n",
       "4          原东馆书库社科             LT07   原东馆书库           2.0          普通   \n",
       "\n",
       "   duration  \n",
       "0     194.0  \n",
       "1     194.0  \n",
       "2    1515.0  \n",
       "3    1515.0  \n",
       "4    1775.0  "
      ]
     },
     "execution_count": 61,
     "metadata": {},
     "output_type": "execute_result"
    }
   ],
   "source": [
    "dfa.head()"
   ]
  },
  {
   "cell_type": "code",
   "execution_count": 62,
   "id": "57c9bcca",
   "metadata": {},
   "outputs": [],
   "source": [
    "dfa['duration']=dfa['duration'].astype('int64')"
   ]
  },
  {
   "cell_type": "code",
   "execution_count": 63,
   "id": "6b34aebf",
   "metadata": {},
   "outputs": [],
   "source": [
    "data=dfa"
   ]
  },
  {
   "cell_type": "code",
   "execution_count": 64,
   "id": "10db9610",
   "metadata": {},
   "outputs": [],
   "source": [
    "data = dfa.dropna(axis = 0, how ='any')"
   ]
  },
  {
   "cell_type": "code",
   "execution_count": 65,
   "id": "a1651d1b",
   "metadata": {},
   "outputs": [],
   "source": [
    "import warnings\n",
    "warnings.filterwarnings(\"ignore\")"
   ]
  },
  {
   "cell_type": "code",
   "execution_count": 66,
   "id": "7eb92bc1",
   "metadata": {},
   "outputs": [],
   "source": [
    "## Label encoding the department\n",
    "\n",
    "from sklearn.preprocessing import LabelEncoder\n",
    "labelencoder = LabelEncoder()\n",
    "data['department'] = labelencoder.fit_transform(data['department'])"
   ]
  },
  {
   "cell_type": "code",
   "execution_count": 67,
   "id": "604040c0",
   "metadata": {},
   "outputs": [],
   "source": [
    "## Label encoding the author\n",
    "\n",
    "from sklearn.preprocessing import LabelEncoder\n",
    "labelencoder = LabelEncoder()\n",
    "data['author'] = labelencoder.fit_transform(data['author'])"
   ]
  },
  {
   "cell_type": "code",
   "execution_count": 68,
   "id": "99c0e84c",
   "metadata": {},
   "outputs": [],
   "source": [
    "## Label encoding the publisher\n",
    "\n",
    "from sklearn.preprocessing import LabelEncoder\n",
    "labelencoder = LabelEncoder()\n",
    "data['publisher'] = labelencoder.fit_transform(data['publisher'])"
   ]
  },
  {
   "cell_type": "code",
   "execution_count": 69,
   "id": "c61717ce",
   "metadata": {},
   "outputs": [],
   "source": [
    "## Label encoding the library\n",
    "\n",
    "from sklearn.preprocessing import LabelEncoder\n",
    "labelencoder = LabelEncoder()\n",
    "data['library'] = labelencoder.fit_transform(data['library'])"
   ]
  },
  {
   "cell_type": "code",
   "execution_count": 70,
   "id": "bcf9f468",
   "metadata": {},
   "outputs": [],
   "source": [
    "## Label encoding the borrow rules\n",
    "\n",
    "from sklearn.preprocessing import LabelEncoder\n",
    "labelencoder = LabelEncoder()\n",
    "data['borrow rules'] = labelencoder.fit_transform(data['borrow rules'])"
   ]
  },
  {
   "cell_type": "code",
   "execution_count": 101,
   "id": "13abf930",
   "metadata": {},
   "outputs": [],
   "source": [
    "## Label encoding the borrow mode\n",
    "\n",
    "from sklearn.preprocessing import LabelEncoder\n",
    "labelencoder = LabelEncoder()\n",
    "data['collection place'] = labelencoder.fit_transform(data['collection place'])"
   ]
  },
  {
   "cell_type": "code",
   "execution_count": 102,
   "id": "836ddf9a-98a6-49d2-a6b6-e9babd391111",
   "metadata": {},
   "outputs": [],
   "source": [
    "## Label encoding the borrow mode\n",
    "\n",
    "from sklearn.preprocessing import LabelEncoder\n",
    "labelencoder = LabelEncoder()\n",
    "data['agent(librarian)'] = labelencoder.fit_transform(data['agent(librarian)'])"
   ]
  },
  {
   "cell_type": "code",
   "execution_count": 72,
   "id": "a88fa8af-350b-4697-b4be-eddb8eaf1517",
   "metadata": {},
   "outputs": [
    {
     "name": "stdout",
     "output_type": "stream",
     "text": [
      "<class 'pandas.core.frame.DataFrame'>\n",
      "Int64Index: 542801 entries, 0 to 193340\n",
      "Data columns (total 19 columns):\n",
      " #   Column                        Non-Null Count   Dtype         \n",
      "---  ------                        --------------   -----         \n",
      " 0   Unnamed: 0                    542801 non-null  int64         \n",
      " 1   license number                542801 non-null  object        \n",
      " 2   full name                     542801 non-null  object        \n",
      " 3   department                    542801 non-null  int64         \n",
      " 4   borrow_date                   542801 non-null  datetime64[ns]\n",
      " 5   return_date                   542801 non-null  datetime64[ns]\n",
      " 6   property number(of the book)  542801 non-null  object        \n",
      " 7   book barcode number           542801 non-null  int64         \n",
      " 8   title                         542801 non-null  object        \n",
      " 9   author                        542801 non-null  int64         \n",
      " 10  publisher                     542801 non-null  int64         \n",
      " 11  price                         542801 non-null  float64       \n",
      " 12  index number                  542801 non-null  object        \n",
      " 13  collection place              542801 non-null  object        \n",
      " 14  agent(librarian)              542801 non-null  object        \n",
      " 15  library                       542801 non-null  int64         \n",
      " 16  borrow rules                  542801 non-null  int64         \n",
      " 17  borrow mode                   542801 non-null  int64         \n",
      " 18  duration                      542801 non-null  int64         \n",
      "dtypes: datetime64[ns](2), float64(1), int64(9), object(7)\n",
      "memory usage: 82.8+ MB\n"
     ]
    }
   ],
   "source": [
    "data.info()"
   ]
  },
  {
   "cell_type": "code",
   "execution_count": 112,
   "id": "d9bcef67",
   "metadata": {},
   "outputs": [],
   "source": [
    "from sklearn.model_selection import train_test_split\n",
    "\n",
    "data_final=data[['borrow mode','library','agent(librarian)','collection place']]\n",
    "\n",
    "# Split the data into training and testing sets\n",
    "X = data_final.drop(['collection place'], axis=1)\n",
    "y = data_final['collection place']"
   ]
  },
  {
   "cell_type": "code",
   "execution_count": 113,
   "id": "701c8199-f9cf-4467-863a-a8f2a3bcd268",
   "metadata": {},
   "outputs": [],
   "source": [
    "from sklearn.preprocessing import StandardScaler\n",
    "# Create a StandardScaler object and fit it to the data\n",
    "scaler = StandardScaler()\n",
    "scaler.fit(X)\n",
    "\n",
    "# Transform the data using the scaler\n",
    "X_norm = scaler.transform(X)"
   ]
  },
  {
   "cell_type": "code",
   "execution_count": 93,
   "id": "306a3cf0-a2d7-46bb-8a5f-05f9a997877f",
   "metadata": {},
   "outputs": [],
   "source": [
    "from sklearn.preprocessing import RobustScaler\n",
    "scaler = RobustScaler()\n",
    "X_rs = scaler.fit_transform(X)"
   ]
  },
  {
   "cell_type": "code",
   "execution_count": 114,
   "id": "845ab85f-265d-430d-aea2-48794bf67092",
   "metadata": {},
   "outputs": [],
   "source": [
    "X_train, X_test, y_train, y_test = train_test_split(X_norm, y, test_size=0.2, random_state=42)"
   ]
  },
  {
   "cell_type": "code",
   "execution_count": 117,
   "id": "32c60f7f-556f-4d76-9acf-cd501de7531c",
   "metadata": {},
   "outputs": [
    {
     "data": {
      "text/html": [
       "<style>#sk-container-id-8 {color: black;background-color: white;}#sk-container-id-8 pre{padding: 0;}#sk-container-id-8 div.sk-toggleable {background-color: white;}#sk-container-id-8 label.sk-toggleable__label {cursor: pointer;display: block;width: 100%;margin-bottom: 0;padding: 0.3em;box-sizing: border-box;text-align: center;}#sk-container-id-8 label.sk-toggleable__label-arrow:before {content: \"▸\";float: left;margin-right: 0.25em;color: #696969;}#sk-container-id-8 label.sk-toggleable__label-arrow:hover:before {color: black;}#sk-container-id-8 div.sk-estimator:hover label.sk-toggleable__label-arrow:before {color: black;}#sk-container-id-8 div.sk-toggleable__content {max-height: 0;max-width: 0;overflow: hidden;text-align: left;background-color: #f0f8ff;}#sk-container-id-8 div.sk-toggleable__content pre {margin: 0.2em;color: black;border-radius: 0.25em;background-color: #f0f8ff;}#sk-container-id-8 input.sk-toggleable__control:checked~div.sk-toggleable__content {max-height: 200px;max-width: 100%;overflow: auto;}#sk-container-id-8 input.sk-toggleable__control:checked~label.sk-toggleable__label-arrow:before {content: \"▾\";}#sk-container-id-8 div.sk-estimator input.sk-toggleable__control:checked~label.sk-toggleable__label {background-color: #d4ebff;}#sk-container-id-8 div.sk-label input.sk-toggleable__control:checked~label.sk-toggleable__label {background-color: #d4ebff;}#sk-container-id-8 input.sk-hidden--visually {border: 0;clip: rect(1px 1px 1px 1px);clip: rect(1px, 1px, 1px, 1px);height: 1px;margin: -1px;overflow: hidden;padding: 0;position: absolute;width: 1px;}#sk-container-id-8 div.sk-estimator {font-family: monospace;background-color: #f0f8ff;border: 1px dotted black;border-radius: 0.25em;box-sizing: border-box;margin-bottom: 0.5em;}#sk-container-id-8 div.sk-estimator:hover {background-color: #d4ebff;}#sk-container-id-8 div.sk-parallel-item::after {content: \"\";width: 100%;border-bottom: 1px solid gray;flex-grow: 1;}#sk-container-id-8 div.sk-label:hover label.sk-toggleable__label {background-color: #d4ebff;}#sk-container-id-8 div.sk-serial::before {content: \"\";position: absolute;border-left: 1px solid gray;box-sizing: border-box;top: 0;bottom: 0;left: 50%;z-index: 0;}#sk-container-id-8 div.sk-serial {display: flex;flex-direction: column;align-items: center;background-color: white;padding-right: 0.2em;padding-left: 0.2em;position: relative;}#sk-container-id-8 div.sk-item {position: relative;z-index: 1;}#sk-container-id-8 div.sk-parallel {display: flex;align-items: stretch;justify-content: center;background-color: white;position: relative;}#sk-container-id-8 div.sk-item::before, #sk-container-id-8 div.sk-parallel-item::before {content: \"\";position: absolute;border-left: 1px solid gray;box-sizing: border-box;top: 0;bottom: 0;left: 50%;z-index: -1;}#sk-container-id-8 div.sk-parallel-item {display: flex;flex-direction: column;z-index: 1;position: relative;background-color: white;}#sk-container-id-8 div.sk-parallel-item:first-child::after {align-self: flex-end;width: 50%;}#sk-container-id-8 div.sk-parallel-item:last-child::after {align-self: flex-start;width: 50%;}#sk-container-id-8 div.sk-parallel-item:only-child::after {width: 0;}#sk-container-id-8 div.sk-dashed-wrapped {border: 1px dashed gray;margin: 0 0.4em 0.5em 0.4em;box-sizing: border-box;padding-bottom: 0.4em;background-color: white;}#sk-container-id-8 div.sk-label label {font-family: monospace;font-weight: bold;display: inline-block;line-height: 1.2em;}#sk-container-id-8 div.sk-label-container {text-align: center;}#sk-container-id-8 div.sk-container {/* jupyter's `normalize.less` sets `[hidden] { display: none; }` but bootstrap.min.css set `[hidden] { display: none !important; }` so we also need the `!important` here to be able to override the default hidden behavior on the sphinx rendered scikit-learn.org. See: https://github.com/scikit-learn/scikit-learn/issues/21755 */display: inline-block !important;position: relative;}#sk-container-id-8 div.sk-text-repr-fallback {display: none;}</style><div id=\"sk-container-id-8\" class=\"sk-top-container\"><div class=\"sk-text-repr-fallback\"><pre>LinearRegression()</pre><b>In a Jupyter environment, please rerun this cell to show the HTML representation or trust the notebook. <br />On GitHub, the HTML representation is unable to render, please try loading this page with nbviewer.org.</b></div><div class=\"sk-container\" hidden><div class=\"sk-item\"><div class=\"sk-estimator sk-toggleable\"><input class=\"sk-toggleable__control sk-hidden--visually\" id=\"sk-estimator-id-8\" type=\"checkbox\" checked><label for=\"sk-estimator-id-8\" class=\"sk-toggleable__label sk-toggleable__label-arrow\">LinearRegression</label><div class=\"sk-toggleable__content\"><pre>LinearRegression()</pre></div></div></div></div></div>"
      ],
      "text/plain": [
       "LinearRegression()"
      ]
     },
     "execution_count": 117,
     "metadata": {},
     "output_type": "execute_result"
    }
   ],
   "source": [
    "from sklearn.linear_model import LinearRegression\n",
    "# Train a random forest classifier\n",
    "lr = LinearRegression()\n",
    "lr.fit(X_train, y_train)"
   ]
  },
  {
   "cell_type": "code",
   "execution_count": 118,
   "id": "cd0638a9-3b74-41d3-a92e-a5d85789aa71",
   "metadata": {},
   "outputs": [
    {
     "name": "stdout",
     "output_type": "stream",
     "text": [
      "Mean squared error: 7.387827793496424\n"
     ]
    }
   ],
   "source": [
    "from sklearn.metrics import mean_squared_error\n",
    "# Make predictions on the test set\n",
    "y_pred = lr.predict(X_test)\n",
    "\n",
    "# Evaluate the model using MSE\n",
    "mse = mean_squared_error(y_test, y_pred)\n",
    "print('Mean squared error:', mse)"
   ]
  },
  {
   "cell_type": "code",
   "execution_count": 115,
   "id": "1da5273a-62f8-4020-81f1-96af65297a48",
   "metadata": {},
   "outputs": [
    {
     "data": {
      "text/html": [
       "<style>#sk-container-id-7 {color: black;background-color: white;}#sk-container-id-7 pre{padding: 0;}#sk-container-id-7 div.sk-toggleable {background-color: white;}#sk-container-id-7 label.sk-toggleable__label {cursor: pointer;display: block;width: 100%;margin-bottom: 0;padding: 0.3em;box-sizing: border-box;text-align: center;}#sk-container-id-7 label.sk-toggleable__label-arrow:before {content: \"▸\";float: left;margin-right: 0.25em;color: #696969;}#sk-container-id-7 label.sk-toggleable__label-arrow:hover:before {color: black;}#sk-container-id-7 div.sk-estimator:hover label.sk-toggleable__label-arrow:before {color: black;}#sk-container-id-7 div.sk-toggleable__content {max-height: 0;max-width: 0;overflow: hidden;text-align: left;background-color: #f0f8ff;}#sk-container-id-7 div.sk-toggleable__content pre {margin: 0.2em;color: black;border-radius: 0.25em;background-color: #f0f8ff;}#sk-container-id-7 input.sk-toggleable__control:checked~div.sk-toggleable__content {max-height: 200px;max-width: 100%;overflow: auto;}#sk-container-id-7 input.sk-toggleable__control:checked~label.sk-toggleable__label-arrow:before {content: \"▾\";}#sk-container-id-7 div.sk-estimator input.sk-toggleable__control:checked~label.sk-toggleable__label {background-color: #d4ebff;}#sk-container-id-7 div.sk-label input.sk-toggleable__control:checked~label.sk-toggleable__label {background-color: #d4ebff;}#sk-container-id-7 input.sk-hidden--visually {border: 0;clip: rect(1px 1px 1px 1px);clip: rect(1px, 1px, 1px, 1px);height: 1px;margin: -1px;overflow: hidden;padding: 0;position: absolute;width: 1px;}#sk-container-id-7 div.sk-estimator {font-family: monospace;background-color: #f0f8ff;border: 1px dotted black;border-radius: 0.25em;box-sizing: border-box;margin-bottom: 0.5em;}#sk-container-id-7 div.sk-estimator:hover {background-color: #d4ebff;}#sk-container-id-7 div.sk-parallel-item::after {content: \"\";width: 100%;border-bottom: 1px solid gray;flex-grow: 1;}#sk-container-id-7 div.sk-label:hover label.sk-toggleable__label {background-color: #d4ebff;}#sk-container-id-7 div.sk-serial::before {content: \"\";position: absolute;border-left: 1px solid gray;box-sizing: border-box;top: 0;bottom: 0;left: 50%;z-index: 0;}#sk-container-id-7 div.sk-serial {display: flex;flex-direction: column;align-items: center;background-color: white;padding-right: 0.2em;padding-left: 0.2em;position: relative;}#sk-container-id-7 div.sk-item {position: relative;z-index: 1;}#sk-container-id-7 div.sk-parallel {display: flex;align-items: stretch;justify-content: center;background-color: white;position: relative;}#sk-container-id-7 div.sk-item::before, #sk-container-id-7 div.sk-parallel-item::before {content: \"\";position: absolute;border-left: 1px solid gray;box-sizing: border-box;top: 0;bottom: 0;left: 50%;z-index: -1;}#sk-container-id-7 div.sk-parallel-item {display: flex;flex-direction: column;z-index: 1;position: relative;background-color: white;}#sk-container-id-7 div.sk-parallel-item:first-child::after {align-self: flex-end;width: 50%;}#sk-container-id-7 div.sk-parallel-item:last-child::after {align-self: flex-start;width: 50%;}#sk-container-id-7 div.sk-parallel-item:only-child::after {width: 0;}#sk-container-id-7 div.sk-dashed-wrapped {border: 1px dashed gray;margin: 0 0.4em 0.5em 0.4em;box-sizing: border-box;padding-bottom: 0.4em;background-color: white;}#sk-container-id-7 div.sk-label label {font-family: monospace;font-weight: bold;display: inline-block;line-height: 1.2em;}#sk-container-id-7 div.sk-label-container {text-align: center;}#sk-container-id-7 div.sk-container {/* jupyter's `normalize.less` sets `[hidden] { display: none; }` but bootstrap.min.css set `[hidden] { display: none !important; }` so we also need the `!important` here to be able to override the default hidden behavior on the sphinx rendered scikit-learn.org. See: https://github.com/scikit-learn/scikit-learn/issues/21755 */display: inline-block !important;position: relative;}#sk-container-id-7 div.sk-text-repr-fallback {display: none;}</style><div id=\"sk-container-id-7\" class=\"sk-top-container\"><div class=\"sk-text-repr-fallback\"><pre>RandomForestClassifier(random_state=42)</pre><b>In a Jupyter environment, please rerun this cell to show the HTML representation or trust the notebook. <br />On GitHub, the HTML representation is unable to render, please try loading this page with nbviewer.org.</b></div><div class=\"sk-container\" hidden><div class=\"sk-item\"><div class=\"sk-estimator sk-toggleable\"><input class=\"sk-toggleable__control sk-hidden--visually\" id=\"sk-estimator-id-7\" type=\"checkbox\" checked><label for=\"sk-estimator-id-7\" class=\"sk-toggleable__label sk-toggleable__label-arrow\">RandomForestClassifier</label><div class=\"sk-toggleable__content\"><pre>RandomForestClassifier(random_state=42)</pre></div></div></div></div></div>"
      ],
      "text/plain": [
       "RandomForestClassifier(random_state=42)"
      ]
     },
     "execution_count": 115,
     "metadata": {},
     "output_type": "execute_result"
    }
   ],
   "source": [
    "# Train a random forest classifier\n",
    "from sklearn.ensemble import RandomForestClassifier\n",
    "clf = RandomForestClassifier(n_estimators=100, random_state=42)\n",
    "clf.fit(X_train, y_train)"
   ]
  },
  {
   "cell_type": "code",
   "execution_count": 116,
   "id": "1a67d8d0-f1e3-4ab1-bc4b-5dc66737a952",
   "metadata": {},
   "outputs": [
    {
     "name": "stdout",
     "output_type": "stream",
     "text": [
      "Accuracy: 0.8820570923259734\n"
     ]
    }
   ],
   "source": [
    "# Make predictions on the test set\n",
    "from sklearn.metrics import accuracy_score\n",
    "y_pred = clf.predict(X_test)\n",
    "\n",
    "# Evaluate the accuracy of the model\n",
    "accuracy = accuracy_score(y_test, y_pred)\n",
    "print('Accuracy:', accuracy)"
   ]
  },
  {
   "cell_type": "code",
   "execution_count": 105,
   "id": "071f8cff",
   "metadata": {},
   "outputs": [
    {
     "data": {
      "text/plain": [
       "<AxesSubplot: >"
      ]
     },
     "execution_count": 105,
     "metadata": {},
     "output_type": "execute_result"
    },
    {
     "data": {
      "image/png": "[encoded data removed]",
      "text/plain": [
       "<Figure size 2000x1500 with 2 Axes>"
      ]
     },
     "metadata": {},
     "output_type": "display_data"
    }
   ],
   "source": [
    "import seaborn as sb\n",
    "corr = data_final.corr()\n",
    "plt.figure(figsize=(20,15))\n",
    "sb.heatmap(corr,annot=True)"
   ]
  },
  {
   "cell_type": "code",
   "execution_count": null,
   "id": "fe4d6920",
   "metadata": {},
   "outputs": [],
   "source": []
  }
 ],
 "metadata": {
  "kernelspec": {
   "display_name": "Python 3 (ipykernel)",
   "language": "python",
   "name": "python3"
  },
  "language_info": {
   "codemirror_mode": {
    "name": "ipython",
    "version": 3
   },
   "file_extension": ".py",
   "mimetype": "text/x-python",
   "name": "python",
   "nbconvert_exporter": "python",
   "pygments_lexer": "ipython3",
   "version": "3.10.6"
  }
 },
 "nbformat": 4,
 "nbformat_minor": 5
}
